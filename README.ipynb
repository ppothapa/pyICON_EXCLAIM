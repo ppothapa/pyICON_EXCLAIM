{
 "cells": [
  {
   "cell_type": "markdown",
   "metadata": {},
   "source": [
    "# User guide for pyicon\n",
    "\n",
    "## Use pyicon with Jupyter\n",
    "\n",
    "Open jupyter notebook with ssh tunnel:\n",
    "\n",
    "```bash\n",
    "ssh -L 8000:localhost:15768 m300602@mistralpp.dkrz.de 'source /sw/rhel6-x64/etc/profile.mistral \\\n",
    "     && /home/mpim/m300602/miniconda2/envs/myenv/bin/jupyter notebook --no-browser --port 15768'\n",
    "```\n",
    "\n",
    "Try out example notebook\n",
    "```\n",
    "pyic_test_r2b9.ipynb\n",
    "```\n",
    "\n",
    "## Use pyicon with normal python scripts\n",
    "\n",
    "Example script:\n",
    "\n",
    "```python\n",
    "import pyicon_jupyter as jup\n",
    "import pyicon as pyic\n",
    "import numpy as np\n",
    "import matplotlib.pyplot as plt\n",
    "\n",
    "# create date set\n",
    "path_data = '/mnt/lustre01/work/mh0033/m211054/projects/icon/solver/icon-oes-solver-HB/experiments/ocean_benchmark/outdata/'\n",
    "IcD = pyic.IconData(\n",
    "    fpath_grid_triangular  = path_data+'ocean_benchmark_20161011T000000Z.nc',\n",
    "    #region                 = 'hurricane',\n",
    "    fname_rgrid            = 'r2b9ocean_r0.05_100w_30w_2n_40n.npz',\n",
    "    #fname_rgrid            = 'r2b9ocean_r0.3_180w_180e_90s_90n.npz',\n",
    "    path_data              = path_data,\n",
    "    search_str             = 'ocean_benchmark_????????????????.nc',\n",
    "       )\n",
    "\n",
    "# load data\n",
    "IcD.load_hsnap(['temp', 'salt'], step_snap=step_snap, it=0, iz=iz)\n",
    "\n",
    "# make axes\n",
    "fig = plt.figure()\n",
    "ax = fig.add_subplot(111)\n",
    "cax = 0\n",
    "\n",
    "# make plot\n",
    "IP = pyic.IP_hor_sec_rect(\n",
    "  IcD, ax=ax, cax=cax,\n",
    "  var='temp', clim=[0, 10], nc='auto', cmap='viridis',\n",
    "  transform=None,\n",
    "  edgecolor=None,\n",
    "  )\n",
    "```"
   ]
  },
  {
   "cell_type": "code",
   "execution_count": null,
   "metadata": {},
   "outputs": [],
   "source": []
  }
 ],
 "metadata": {
  "kernelspec": {
   "display_name": "Python 2",
   "language": "python",
   "name": "python2"
  },
  "language_info": {
   "codemirror_mode": {
    "name": "ipython",
    "version": 2
   },
   "file_extension": ".py",
   "mimetype": "text/x-python",
   "name": "python",
   "nbconvert_exporter": "python",
   "pygments_lexer": "ipython2",
   "version": "2.7.15"
  }
 },
 "nbformat": 4,
 "nbformat_minor": 2
}
