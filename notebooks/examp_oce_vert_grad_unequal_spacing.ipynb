{
 "cells": [
  {
   "cell_type": "markdown",
   "metadata": {},
   "source": [
    "# Calculate vertical density and velocity gradients"
   ]
  },
  {
   "cell_type": "markdown",
   "metadata": {},
   "source": [
    "In this notebook, the vertical gradients of density and velocity are derived. Here the resulting gradient should be on the same grid (cell centers) as the original fields. This is needed e.g. for the conversion terms in the LEC calculation.\n",
    "\n",
    "The discrete central difference for unequal grid spacing reads as follows (however, we will test and compare this with simpler methods):"
   ]
  },
  {
   "cell_type": "markdown",
   "metadata": {},
   "source": [
    "$$\n",
    "\\newcommand{\\Dz}{\\Delta z}\n",
    "\\newcommand{\\pz}{\\partial_z}\n",
    "$$\n",
    "\\begin{align*}\n",
    "\\pz f|_k &= \\frac{\\Dz_1^2f_{k+1}+(\\Dz_2^2-\\Dz_1^2)f_k-\\Dz_2^2f_{k-1}}{\\Dz_1\\Dz_2(\\Dz_2+\\Dz_1)}\n",
    "\\end{align*}\n",
    "with \n",
    "\\begin{align*}\n",
    "\\Dz_1&=z_k-z_{k-1}, & \\Dz_2&=z_{k+1}-z_k  \n",
    "\\end{align*}"
   ]
  },
  {
   "cell_type": "code",
   "execution_count": 1,
   "metadata": {},
   "outputs": [],
   "source": [
    "# Jupyter Notebook with widget matplotlib plots\n",
    "#%matplotlib notebook\n",
    "# Jupyter Lab with widget matplotlib plots\n",
    "#%matplotlib widget \n",
    "# with Jupyter and Jupyter Lab but without widget matplotlib plots\n",
    "%matplotlib inline\n",
    "%load_ext autoreload\n",
    "%autoreload 2"
   ]
  },
  {
   "cell_type": "code",
   "execution_count": 2,
   "metadata": {},
   "outputs": [
    {
     "name": "stdout",
     "output_type": "stream",
     "text": [
      "calc\n",
      "tb\n",
      "IconData\n",
      "plotting\n",
      "view\n",
      "calc\n",
      "tb\n",
      "IconData\n",
      "plotting\n",
      "view\n",
      "quickplots\n",
      "quickplots\n"
     ]
    }
   ],
   "source": [
    "import numpy as np\n",
    "import matplotlib.pyplot as plt\n",
    "from netCDF4 import Dataset\n",
    "import sys\n",
    "import pyicon as pyic\n",
    "import cartopy\n",
    "import seawater as sw"
   ]
  },
  {
   "cell_type": "code",
   "execution_count": 3,
   "metadata": {},
   "outputs": [],
   "source": [
    "ccrs_proj = cartopy.crs.PlateCarree()"
   ]
  },
  {
   "cell_type": "markdown",
   "metadata": {},
   "source": [
    "## Specify data set"
   ]
  },
  {
   "cell_type": "code",
   "execution_count": 4,
   "metadata": {},
   "outputs": [],
   "source": [
    "run = 'nib0004'\n",
    "runname = 'icon_08'\n",
    "gname = 'r2b6'\n",
    "lev = 'L64'\n",
    "\n",
    "path_data     = f'/mnt/lustre01/work/mh0033/m300602/proj_vmix/icon/{runname}/icon-oes/experiments/{run}/'\n",
    "path_grid     = f'/mnt/lustre01/work/mh0033/m300602/icon/grids/{gname}/'\n",
    "path_ckdtree  = f'{path_grid}ckdtree/'\n",
    "fpath_ckdtree = f'{path_grid}ckdtree/rectgrids/{gname}_res0.30_180W-180E_90S-90N.npz'\n",
    "fpath_fx      = f'{path_grid}{gname}_{lev}_fx.nc'"
   ]
  },
  {
   "cell_type": "code",
   "execution_count": 5,
   "metadata": {},
   "outputs": [],
   "source": [
    "IcD = pyic.IconData(\n",
    "    fname        = run+'_????????????????.nc',\n",
    "    path_data    = path_data,\n",
    "    path_grid    = path_grid,\n",
    "    gname        = gname,\n",
    "    lev          = lev,\n",
    "    do_triangulation    = False,\n",
    "    omit_last_file      = False,\n",
    "    calc_coeff          = False,\n",
    "    calc_coeff_mappings = False,\n",
    "              )"
   ]
  },
  {
   "cell_type": "markdown",
   "metadata": {},
   "source": [
    "Define time frame for averaging (shorter time periods should be chosen for testing):"
   ]
  },
  {
   "cell_type": "code",
   "execution_count": 6,
   "metadata": {},
   "outputs": [],
   "source": [
    "t1 = '2100-02-01'\n",
    "t2 = '2101-01-01'\n",
    "\n",
    "ic = np.argmin((IcD.clon+30)**2+(IcD.clat-26)**2)"
   ]
  },
  {
   "cell_type": "markdown",
   "metadata": {},
   "source": [
    "## Loading data"
   ]
  },
  {
   "cell_type": "markdown",
   "metadata": {},
   "source": [
    "Load time averaged data"
   ]
  },
  {
   "cell_type": "code",
   "execution_count": 7,
   "metadata": {},
   "outputs": [],
   "source": [
    "# --- load data\n",
    "uo, it_ave   = pyic.time_average(IcD, 'u', t1=t1, t2=t2, iz='all')\n",
    "vo, it_ave   = pyic.time_average(IcD, 'v', t1=t1, t2=t2, iz='all')\n",
    "to, it_ave   = pyic.time_average(IcD, 'to', t1=t1, t2=t2, iz='all')\n",
    "so, it_ave   = pyic.time_average(IcD, 'so', t1=t1, t2=t2, iz='all')"
   ]
  },
  {
   "cell_type": "code",
   "execution_count": 8,
   "metadata": {},
   "outputs": [],
   "source": [
    "to[IcD.wet_c==0] = np.ma.masked\n",
    "so[IcD.wet_c==0] = np.ma.masked"
   ]
  },
  {
   "cell_type": "code",
   "execution_count": 9,
   "metadata": {},
   "outputs": [],
   "source": [
    "rho_pot = sw.dens(so, to, 0.)"
   ]
  },
  {
   "cell_type": "markdown",
   "metadata": {},
   "source": [
    "## Vertical density gradients"
   ]
  },
  {
   "cell_type": "markdown",
   "metadata": {},
   "source": [
    "We derive the stratification (also known as Brunt-Väisälä frequency, buoyancy frequency) which is defined as\n",
    "$$N^2 = -g \\frac{\\rho-\\rho_0}{\\rho_0}$$\n",
    "\n",
    "Boundary conditions (BC): zero gradient condition is assumed at the surface and at the bottom.\n",
    "\n",
    "Thus: $N^2(z=0)=0$ and $N^2(z=-h)=0$\n",
    "\n",
    "This is in alignment with the ICON code: (tracer_transport/mo_ocean_tracer_transport_vert.f90 ll. 323)"
   ]
  },
  {
   "cell_type": "code",
   "execution_count": 10,
   "metadata": {},
   "outputs": [],
   "source": [
    "# bottom index\n",
    "kbot = IcD.wet_c.sum(axis=0).astype(int)-1\n",
    "iall = np.arange(IcD.clon.size, dtype=int)"
   ]
  },
  {
   "cell_type": "markdown",
   "metadata": {},
   "source": [
    "### N2 on interfaces with interpolation back to centers"
   ]
  },
  {
   "cell_type": "markdown",
   "metadata": {},
   "source": [
    "Derive vertical density gradient (bouyancy frequency, $N^2$). The density values that go into the vertical density difference need to be referrenced to the same pressure value. Therefore derive them first:"
   ]
  },
  {
   "cell_type": "code",
   "execution_count": 11,
   "metadata": {},
   "outputs": [],
   "source": [
    "rhop1_ = sw.dens(so[1:,:], to[1:,:], IcD.depthi[1:-1,np.newaxis])\n",
    "rhom1_ = sw.dens(so[:-1,:], to[:-1,:], IcD.depthi[1:-1,np.newaxis])"
   ]
  },
  {
   "cell_type": "code",
   "execution_count": 12,
   "metadata": {},
   "outputs": [],
   "source": [
    "N2 = np.ma.zeros((IcD.nz+1,to.shape[1]))\n",
    "# start index from 1 => upper BC (N2(0)=0) is fullfilled\n",
    "N2[1:-1,:] = - (rhom1_-rhop1_)/IcD.dzt[1:-1,:] * IcD.grav/IcD.rho0\n",
    "# lower BC (N2(-h)=0):\n",
    "N2[kbot+1,iall] = 0."
   ]
  },
  {
   "cell_type": "markdown",
   "metadata": {},
   "source": [
    "N2 is defined on cell interfaces, therefore interpolate back to cell centers:"
   ]
  },
  {
   "cell_type": "code",
   "execution_count": 13,
   "metadata": {},
   "outputs": [],
   "source": [
    "N2vi = 0.5*(N2[1:,:]+N2[:-1,:])\n",
    "N2vi[IcD.wet_c==0] = np.ma.masked"
   ]
  },
  {
   "cell_type": "markdown",
   "metadata": {},
   "source": [
    "### N2 with central difference from unequal grid spacing (conceputally preferred method)"
   ]
  },
  {
   "cell_type": "code",
   "execution_count": 14,
   "metadata": {},
   "outputs": [],
   "source": [
    "rho   = sw.dens(so[1:-1,:], to[1:-1,:], IcD.depthc[1:-1,np.newaxis])\n",
    "rhop1 = sw.dens(so[2:,:], to[2:,:], IcD.depthc[1:-1,np.newaxis])\n",
    "rhom1 = sw.dens(so[:-2,:], to[:-2,:], IcD.depthc[1:-1,np.newaxis])"
   ]
  },
  {
   "cell_type": "code",
   "execution_count": 15,
   "metadata": {},
   "outputs": [],
   "source": [
    "dz1 = IcD.depthc[1:-1,np.newaxis]-IcD.depthc[:-2,np.newaxis]\n",
    "dz2 = IcD.depthc[2:,np.newaxis]-IcD.depthc[1:-1,np.newaxis]\n",
    "N2uesp = np.ma.zeros((IcD.nz, IcD.clon.size))\n",
    "N2uesp[1:-1,:] = (dz1**2*rhop1+(dz2**2-dz1**2)*rho-dz2**2*rhom1) / (dz1*dz2*(dz2+dz1)) * IcD.grav/IcD.rho0\n",
    "# N2uesp *= IcD.wet_c"
   ]
  },
  {
   "cell_type": "markdown",
   "metadata": {},
   "source": [
    "Upper boundary condition assumes that $N^2(z=0)=0$ and we derive $N^2$ from interpolation between upper and lower interface of first cell:"
   ]
  },
  {
   "cell_type": "code",
   "execution_count": 16,
   "metadata": {},
   "outputs": [],
   "source": [
    "N2uesp[0,:] = 0.5*(0. + (rho[0,:]-rhom1[0,:])/dz1[0] * IcD.grav/IcD.rho0)"
   ]
  },
  {
   "cell_type": "markdown",
   "metadata": {},
   "source": [
    "Lower BC: $N^2(z=-h)=0$:"
   ]
  },
  {
   "cell_type": "code",
   "execution_count": 17,
   "metadata": {},
   "outputs": [],
   "source": [
    "N2uesp[kbot,iall] = 0.5*( \n",
    "    (rho[kbot-2,iall]-rhop1[kbot-2,iall])\n",
    "   /(IcD.depthc[kbot-1]-IcD.depthc[kbot]) * IcD.grav/IcD.rho0 + 0.)"
   ]
  },
  {
   "cell_type": "code",
   "execution_count": 18,
   "metadata": {},
   "outputs": [],
   "source": [
    "N2uesp[IcD.wet_c==0] = np.ma.masked"
   ]
  },
  {
   "cell_type": "markdown",
   "metadata": {},
   "source": [
    "### N2 from surface referenced potential density "
   ]
  },
  {
   "cell_type": "markdown",
   "metadata": {},
   "source": [
    "Derive N2 from potential density referenced to the surface.\n",
    "\n",
    "!!!ATTENTION: This is not totally accurate! (But maybe still accurate enough...)"
   ]
  },
  {
   "cell_type": "code",
   "execution_count": 19,
   "metadata": {},
   "outputs": [],
   "source": [
    "N2_sref = np.ma.zeros((IcD.nz+1,to.shape[1]))\n",
    "N2_sref[1:-1,:] = - (rho_pot[:-1,:]-rho_pot[1:,:])/IcD.dzt[1:-1,:] * IcD.grav/IcD.rho0\n",
    "N2_sref[kbot+1,iall] = 0.\n",
    "# N2_sref[:-1,:] *= IcD.wet_c\n",
    "\n",
    "N2_sref = 0.5*(N2_sref[1:,:]+N2_sref[:-1,:])\n",
    "N2_sref[IcD.wet_c==0] = np.ma.masked"
   ]
  },
  {
   "cell_type": "markdown",
   "metadata": {},
   "source": [
    "### N2 from surface refecenced pot. density using central differences"
   ]
  },
  {
   "cell_type": "markdown",
   "metadata": {},
   "source": [
    "This method is similar as the derivation of pot. density. It also does not use density values referenced to the same pressure in the derivative.\n",
    "\n",
    "!!!ATTENTION: This is not totally accurate! (But maybe still accurate enough...)"
   ]
  },
  {
   "cell_type": "code",
   "execution_count": null,
   "metadata": {},
   "outputs": [],
   "source": [
    "\"Vertical derivative at depth levels\"\n",
    "def vertical_gradient(x,d):\n",
    "    z = np.ma.zeros(x.shape)\n",
    "    \n",
    "    if(len(x.shape)==1):\n",
    "        \"one dimensional array\"\n",
    "        z[1:-1] = (x[2:]-x[:-2])/(d[2:]-d[:-2])\n",
    "        z[0]    = (x[1]-x[0])/(d[1]-d[0])\n",
    "        z[-1]   = (x[-2]-x[-1])/(d[-2]-d[-1])\n",
    "    else:\n",
    "        z[1:-1,:] = (x[2:,:]-x[:-2,:])/(d[2:,np.newaxis]-d[:-2,np.newaxis])\n",
    "        z[0,:]    = (x[1,:]-x[0,:])/(d[1,np.newaxis]-d[0,np.newaxis])\n",
    "        z[-1,:]   = (x[-2,:]-x[-1,:])/(d[-2,np.newaxis]-d[-1,np.newaxis])\n",
    "    return z"
   ]
  },
  {
   "cell_type": "code",
   "execution_count": 21,
   "metadata": {},
   "outputs": [],
   "source": [
    "# R,_      = pyic.time_average(IcDe, 'sigma0', t1=t1, t2=t2, iz='all')\n",
    "# pot = R + 1000\n",
    "pot = rho_pot"
   ]
  },
  {
   "cell_type": "code",
   "execution_count": 22,
   "metadata": {},
   "outputs": [],
   "source": [
    "pot[IcD.wet_c==0.] = np.ma.masked"
   ]
  },
  {
   "cell_type": "code",
   "execution_count": 23,
   "metadata": {},
   "outputs": [],
   "source": [
    "# pot_am = np.sum(pot*Icon_area, axis=1)/np.sum(Icon_area, axis=1)"
   ]
  },
  {
   "cell_type": "code",
   "execution_count": 24,
   "metadata": {},
   "outputs": [],
   "source": [
    "n_o = vertical_gradient(pot,IcD.depthc) * IcD.grav/IcD.rho0"
   ]
  },
  {
   "cell_type": "markdown",
   "metadata": {},
   "source": [
    "### Plotting"
   ]
  },
  {
   "cell_type": "code",
   "execution_count": 25,
   "metadata": {},
   "outputs": [
    {
     "data": {
      "text/plain": [
       "(5.442748368252752e-09, 5.380432036772552e-09, 2.3785708958001806e-09, masked)"
      ]
     },
     "execution_count": 25,
     "metadata": {},
     "output_type": "execute_result"
    }
   ],
   "source": [
    "N2vi[kbot[ic],ic], N2uesp[kbot[ic],ic], N2_sref[kbot[ic],ic], n_o[kbot[ic],ic]"
   ]
  },
  {
   "cell_type": "code",
   "execution_count": 26,
   "metadata": {},
   "outputs": [
    {
     "data": {
      "text/plain": [
       "<matplotlib.legend.Legend at 0x2b796bda8dc0>"
      ]
     },
     "execution_count": 26,
     "metadata": {},
     "output_type": "execute_result"
    },
    {
     "data": {
      "image/png": "[encoded data removed]",
      "text/plain": [
       "<Figure size 901.416x396.85 with 3 Axes>"
      ]
     },
     "metadata": {
      "needs_background": "light"
     },
     "output_type": "display_data"
    }
   ],
   "source": [
    "hca, hcb = pyic.arrange_axes(3,1, plot_cb=False, asp=1.5, fig_size_fac=3.,\n",
    "                               sharex=False, sharey=False, xlabel=\"\", ylabel=\"depth [m]\",\n",
    "                            )\n",
    "ii=-1\n",
    "\n",
    "ii+=1; ax=hca[ii]; cax=hcb[ii]\n",
    "ax.plot(N2uesp[:,ic]/1e-6, IcD.depthc, label='N2uesp')\n",
    "ax.plot(N2vi[:,ic]/1e-6, IcD.depthc, label='N2vi')\n",
    "ax.plot(N2_sref[:,ic]/1e-6, IcD.depthc, label='N2_sref')\n",
    "ax.plot(n_o[:,ic]/1e-6, IcD.depthc, label='n_o')\n",
    "ax.set_ylim(5500,0)\n",
    "ax.legend()\n",
    "ax.set_title('N$^2$ [1e-6 / s$^2$]')\n",
    "\n",
    "ii+=1; ax=hca[ii]; cax=hcb[ii]\n",
    "ax.plot(N2uesp[:,ic]/1e-6, IcD.depthc, label='N2uesp')\n",
    "ax.plot(N2vi[:,ic]/1e-6, IcD.depthc, label='N2vi')\n",
    "ax.plot(N2_sref[:,ic]/1e-6, IcD.depthc, label='N2_sref')\n",
    "ax.plot(n_o[:,ic]/1e-6, IcD.depthc, label='n_o')\n",
    "ax.set_ylim(200,0)\n",
    "ax.set_xlim(0,None)\n",
    "ax.set_title('upper ocean')\n",
    "ax.legend()\n",
    "\n",
    "ii+=1; ax=hca[ii]; cax=hcb[ii]\n",
    "ax.plot((N2uesp[:,ic]-N2vi[:,ic])/1e-6, IcD.depthc, label='N2vi-N2uesp')\n",
    "ax.plot((N2_sref[:,ic]-N2vi[:,ic])/1e-6, IcD.depthc, label='N2_sref-N2uesp')\n",
    "ax.plot((N2_sref[:,ic]-N2vi[:,ic])/1e-6, IcD.depthc, label='n_o-N2uesp', linestyle='--')\n",
    "ax.set_ylim(5500,0)\n",
    "ax.set_xlim(-5, 5)\n",
    "ax.set_title('difference')\n",
    "ax.legend()"
   ]
  },
  {
   "cell_type": "markdown",
   "metadata": {},
   "source": [
    "## Vertical velocity gradients (shear)"
   ]
  },
  {
   "cell_type": "markdown",
   "metadata": {},
   "source": [
    "Boundary conditions (BC): noslip boundary condition is assumed at the surface and bottom\n",
    "\n",
    "Thus: $u(z=0)=0$ and $u(z=-h)=0$\n",
    "\n",
    "Hower, in ICON u is not set to zero at the bottom interface but at the first land cell:\n",
    "\n",
    "Thus for the first land cell u[kbot+1] = 0 and for the bottom interface level: ui[kbot+1] = -u[kbot]\n",
    "\n",
    "(See ICON code: dynamics/mo_ocean_velocity_advection.f90 ll. 874)"
   ]
  },
  {
   "cell_type": "markdown",
   "metadata": {},
   "source": [
    "### Shear from forward difference and interpolation to cell centers"
   ]
  },
  {
   "cell_type": "markdown",
   "metadata": {},
   "source": [
    "We derive here the vertical gradient as simple centered differences. This is not totally accurate when the vert. grid spacing is uneven. Maybe this can be improved."
   ]
  },
  {
   "cell_type": "code",
   "execution_count": 27,
   "metadata": {},
   "outputs": [],
   "source": [
    "dudz = np.ma.zeros((IcD.nz+1,uo.shape[1]))\n",
    "dudz[1:-1,:] = (uo[:-1,:]-uo[1:,:])/IcD.dzt[1:-1,:]\n",
    "dudz[:-1,:] *= IcD.wet_c"
   ]
  },
  {
   "cell_type": "markdown",
   "metadata": {},
   "source": [
    "Interpolate back from interfaces to cell centers:"
   ]
  },
  {
   "cell_type": "code",
   "execution_count": 28,
   "metadata": {},
   "outputs": [],
   "source": [
    "dudzvi = 0.5*(dudz[1:,:]+dudz[:-1,:])"
   ]
  },
  {
   "cell_type": "markdown",
   "metadata": {},
   "source": [
    "BC: The boundary condition is u(z=0)=0 (noslip)"
   ]
  },
  {
   "cell_type": "code",
   "execution_count": 29,
   "metadata": {},
   "outputs": [],
   "source": [
    "dudzvi[0,:] = (0-uo[0,:])/IcD.dzt[0,:]"
   ]
  },
  {
   "cell_type": "code",
   "execution_count": 30,
   "metadata": {},
   "outputs": [],
   "source": [
    "dudzvi[IcD.wet_c==0] = np.ma.masked"
   ]
  },
  {
   "cell_type": "markdown",
   "metadata": {},
   "source": [
    "### Shear from central differences"
   ]
  },
  {
   "cell_type": "code",
   "execution_count": 31,
   "metadata": {},
   "outputs": [],
   "source": [
    "dudz_cent = np.ma.zeros((IcD.nz,IcD.clon.size))\n",
    "dudz_cent[1:-1,:] = (uo[:-2,:]-uo[2:,:]) / (IcD.depthc[:-2,np.newaxis]-IcD.depthc[2:,np.newaxis])"
   ]
  },
  {
   "cell_type": "code",
   "execution_count": 32,
   "metadata": {},
   "outputs": [],
   "source": [
    "dudz_cent[0,:] = (0-uo[0,:])/(0-IcD.depthc[0])"
   ]
  },
  {
   "cell_type": "code",
   "execution_count": 33,
   "metadata": {},
   "outputs": [],
   "source": [
    "dudz_cent[IcD.wet_c==0] = np.ma.masked"
   ]
  },
  {
   "cell_type": "code",
   "execution_count": 34,
   "metadata": {},
   "outputs": [],
   "source": [
    "dudz_cent *= -1"
   ]
  },
  {
   "cell_type": "markdown",
   "metadata": {},
   "source": [
    "### Shear with central difference from unequal grid spacing (conceptually preferred method)"
   ]
  },
  {
   "cell_type": "code",
   "execution_count": 35,
   "metadata": {},
   "outputs": [],
   "source": [
    "uoce = uo[1:-1,:]\n",
    "uop1 = uo[2:,:]\n",
    "uom1 = uo[:-2,:]"
   ]
  },
  {
   "cell_type": "code",
   "execution_count": 36,
   "metadata": {},
   "outputs": [],
   "source": [
    "dz1 = IcD.depthc[1:-1,np.newaxis]-IcD.depthc[:-2,np.newaxis]\n",
    "dz2 = IcD.depthc[2:,np.newaxis]-IcD.depthc[1:-1,np.newaxis]\n",
    "dudz_uesp = np.ma.zeros((IcD.nz, IcD.clon.size))\n",
    "dudz_uesp[1:-1,:] = (dz1**2*uop1+(dz2**2-dz1**2)*uoce-dz2**2*uom1) / (dz1*dz2*(dz2+dz1))\n",
    "dudz_uesp[IcD.wet_c==0] = np.ma.masked"
   ]
  },
  {
   "cell_type": "markdown",
   "metadata": {},
   "source": [
    "Upper boundary condition: $u(z=0)=0$:"
   ]
  },
  {
   "cell_type": "code",
   "execution_count": 37,
   "metadata": {},
   "outputs": [],
   "source": [
    "dudz_uesp[0,:] = (0-uom1[0,:])/(0-IcD.depthc[0])"
   ]
  },
  {
   "cell_type": "markdown",
   "metadata": {},
   "source": [
    "Compensate for depth being positive:"
   ]
  },
  {
   "cell_type": "code",
   "execution_count": 38,
   "metadata": {},
   "outputs": [],
   "source": [
    "dudz_uesp *= -1"
   ]
  },
  {
   "cell_type": "markdown",
   "metadata": {},
   "source": [
    "### Plotting"
   ]
  },
  {
   "cell_type": "code",
   "execution_count": 39,
   "metadata": {},
   "outputs": [],
   "source": [
    "ic = np.argmin((IcD.clon+30)**2+(IcD.clat-26)**2)"
   ]
  },
  {
   "cell_type": "markdown",
   "metadata": {},
   "source": [
    "Check surface:"
   ]
  },
  {
   "cell_type": "code",
   "execution_count": 40,
   "metadata": {},
   "outputs": [
    {
     "data": {
      "text/plain": [
       "array([-0.04064443, -0.01654105], dtype=float32)"
      ]
     },
     "execution_count": 40,
     "metadata": {},
     "output_type": "execute_result"
    }
   ],
   "source": [
    "uo[:2,ic].data"
   ]
  },
  {
   "cell_type": "code",
   "execution_count": 41,
   "metadata": {},
   "outputs": [
    {
     "data": {
      "text/plain": [
       "(0.00677407206967473, 0.00677407206967473, 0.00677407206967473)"
      ]
     },
     "execution_count": 41,
     "metadata": {},
     "output_type": "execute_result"
    }
   ],
   "source": [
    "dudz_uesp[0,ic], dudzvi[0,ic], dudz_cent[0,ic]"
   ]
  },
  {
   "cell_type": "markdown",
   "metadata": {},
   "source": [
    "Check bottom:"
   ]
  },
  {
   "cell_type": "code",
   "execution_count": 42,
   "metadata": {},
   "outputs": [
    {
     "data": {
      "text/plain": [
       "(6.604059746390453e-07, 5.742318762713694e-07, 6.415198308664126e-07)"
      ]
     },
     "execution_count": 42,
     "metadata": {},
     "output_type": "execute_result"
    }
   ],
   "source": [
    "dudz_uesp[kbot[ic],ic], dudzvi[kbot[ic],ic], dudz_cent[kbot[ic],ic]"
   ]
  },
  {
   "cell_type": "markdown",
   "metadata": {},
   "source": [
    "Plotting"
   ]
  },
  {
   "cell_type": "code",
   "execution_count": 43,
   "metadata": {},
   "outputs": [
    {
     "data": {
      "text/plain": [
       "<matplotlib.legend.Legend at 0x2b7997295cd0>"
      ]
     },
     "execution_count": 43,
     "metadata": {},
     "output_type": "execute_result"
    },
    {
     "data": {
      "image/png": "[encoded data removed]",
      "text/plain": [
       "<Figure size 901.416x396.85 with 3 Axes>"
      ]
     },
     "metadata": {
      "needs_background": "light"
     },
     "output_type": "display_data"
    }
   ],
   "source": [
    "hca, hcb = pyic.arrange_axes(3,1, plot_cb=False, asp=1.5, fig_size_fac=3.,\n",
    "                               sharex=False, sharey=False, xlabel=\"\", ylabel=\"depth [m]\",\n",
    "                            )\n",
    "ii=-1\n",
    "\n",
    "ii+=1; ax=hca[ii]; cax=hcb[ii]\n",
    "ax.plot(dudz_uesp[:,ic]/1e-3, IcD.depthc, label='dudz_uesp')\n",
    "ax.plot(dudzvi[:,ic]/1e-3, IcD.depthc, label='dudzvi')\n",
    "ax.plot(dudz_cent[:,ic]/1e-3, IcD.depthc, label='dudz_cent')\n",
    "ax.set_ylim(5200,0)\n",
    "ax.legend()\n",
    "ax.set_title('$\\partial_z u$ [1e-3 / s]')\n",
    "\n",
    "ii+=1; ax=hca[ii]; cax=hcb[ii]\n",
    "ax.plot(dudz_uesp[:,ic]/1e-3, IcD.depthc, label='dudz_uesp')\n",
    "ax.plot(dudzvi[:,ic]/1e-3, IcD.depthc, label='dudzvi')\n",
    "ax.plot(dudz_cent[:,ic]/1e-3, IcD.depthc, label='dudz_cent')\n",
    "ax.set_ylim(200,0)\n",
    "ax.set_xlim(None, None)\n",
    "ax.set_title('upper ocean')\n",
    "ax.legend()\n",
    "\n",
    "ii+=1; ax=hca[ii]; cax=hcb[ii]\n",
    "ax.plot((dudz_uesp[:,ic]-dudzvi[:,ic])/1e-3, IcD.depthc, label='dudz_uesp-dudzvi')\n",
    "ax.plot((dudz_uesp[:,ic]-dudz_cent[:,ic])/1e-3, IcD.depthc, label='dudz_uesp-dudz_cent', linestyle='--')\n",
    "ax.set_ylim(5200,-100)\n",
    "# ax.set_xlim(-5, 5)\n",
    "ax.set_title('difference')\n",
    "ax.legend()"
   ]
  }
 ],
 "metadata": {
  "kernelspec": {
   "display_name": "Python 3",
   "language": "python",
   "name": "python3"
  },
  "language_info": {
   "codemirror_mode": {
    "name": "ipython",
    "version": 3
   },
   "file_extension": ".py",
   "mimetype": "text/x-python",
   "name": "python",
   "nbconvert_exporter": "python",
   "pygments_lexer": "ipython3",
   "version": "3.8.2"
  }
 },
 "nbformat": 4,
 "nbformat_minor": 4
}
