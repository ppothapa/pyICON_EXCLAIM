{
 "cells": [
  {
   "cell_type": "markdown",
   "metadata": {},
   "source": [
    "# Example for plotting geopotential height"
   ]
  },
  {
   "cell_type": "code",
   "execution_count": 1,
   "metadata": {},
   "outputs": [],
   "source": [
    "# Jupyter Notebook with widget matplotlib plots\n",
    "#%matplotlib notebook\n",
    "# Jupyter Lab with widget matplotlib plots\n",
    "#%matplotlib widget \n",
    "# with Jupyter and Jupyter Lab but without widget matplotlib plots\n",
    "%matplotlib inline\n",
    "%load_ext autoreload\n",
    "%autoreload 2"
   ]
  },
  {
   "cell_type": "code",
   "execution_count": null,
   "metadata": {},
   "outputs": [],
   "source": [
    "import sys, glob, os \n",
    "import numpy as np\n",
    "import matplotlib\n",
    "import matplotlib.pyplot as plt \n",
    "from netCDF4 import Dataset   \n",
    "import pyicon as pyic\n",
    "import cartopy.crs as ccrs "
   ]
  },
  {
   "cell_type": "markdown",
   "metadata": {},
   "source": [
    "## Load data\n",
    "\n",
    "Load dataset:"
   ]
  },
  {
   "cell_type": "code",
   "execution_count": null,
   "metadata": {},
   "outputs": [],
   "source": [
    "run       = 'jkr0042'\n",
    "gname_atm = 'r2b4a'\n",
    "lev_atm   = 'L84'\n",
    "rgrid_name = 'global_0.3'\n",
    "t1 = np.datetime64('1780-02-01')\n",
    "t2 = np.datetime64('1790-01-01')\n",
    "                 \n",
    "path_data     = '/work/mh0287/users/juergen/icon-oes/experiments/'+run+'/'            \n",
    "path_grid_atm = '/mnt/lustre01/work/mh0033/m300602/icon/grids/'+gname_atm+'/'         \n",
    "                \n",
    "tstep     = '????????????????'"
   ]
  },
  {
   "cell_type": "code",
   "execution_count": null,
   "metadata": {},
   "outputs": [],
   "source": [
    "fname = '%s_atm_3d_ml_%s.nc' % (run, tstep)                                           \n",
    "print('Dataset %s' % (fname))\n",
    "IcD_atm3d = pyic.IconData(                                                            \n",
    "               fname        = fname,                                                  \n",
    "               path_data    = path_data,\n",
    "               path_grid    = path_grid_atm,                                          \n",
    "               gname        = gname_atm,\n",
    "               lev          = lev_atm,                                                \n",
    "               rgrid_name   = rgrid_name,                                             \n",
    "               do_triangulation = True,                                               \n",
    "               omit_last_file = False,                                                \n",
    "               load_vertical_grid = False,                                            \n",
    "               time_mode = 'float2date',                                              \n",
    "              )                                                                       \n",
    "fpath_ckdtree_atm = IcD_atm3d.rgrid_fpath_dict[rgrid_name]"
   ]
  },
  {
   "cell_type": "markdown",
   "metadata": {},
   "source": [
    "Load pressure (time dependent) and geometric height (time independent):"
   ]
  },
  {
   "cell_type": "code",
   "execution_count": null,
   "metadata": {},
   "outputs": [],
   "source": [
    "pfull, it_ave   = pyic.time_average(IcD_atm3d, 'pfull', t1=t1, t2=t2, iz='all') \n",
    "f = Dataset(IcD_atm3d.flist_ts[0], 'r')\n",
    "zg = f.variables['zg'][:]\n",
    "f.close()"
   ]
  },
  {
   "cell_type": "markdown",
   "metadata": {},
   "source": [
    "## Calculate geopotential height\n",
    "\n",
    "Define pressure levels for which to calculate the geopotential height:"
   ]
  },
  {
   "cell_type": "code",
   "execution_count": null,
   "metadata": {},
   "outputs": [],
   "source": [
    "IcD_atm3d.plevc = np.array([100000,92500,85000,77500,70000,60000,50000,40000,30000,25000,20000,15000,10000,7000,5000,3000,1000])"
   ]
  },
  {
   "cell_type": "markdown",
   "metadata": {},
   "source": [
    "Calculate geopotential height:"
   ]
  },
  {
   "cell_type": "code",
   "execution_count": null,
   "metadata": {},
   "outputs": [],
   "source": [
    "icall, ind_lev, fac = pyic.calc_vertical_interp_weights(pfull, IcD_atm3d.plevc)\n",
    "zgvi = zg[ind_lev,icall]*fac+zg[ind_lev+1,icall]*(1.-fac)"
   ]
  },
  {
   "cell_type": "markdown",
   "metadata": {},
   "source": [
    "## Plotting"
   ]
  },
  {
   "cell_type": "markdown",
   "metadata": {},
   "source": [
    "Interpolate to regular grid"
   ]
  },
  {
   "cell_type": "code",
   "execution_count": null,
   "metadata": {},
   "outputs": [],
   "source": [
    "lon, lat, zgvihi = pyic.interp_to_rectgrid(zgvi, fpath_ckdtree_atm, coordinates='clat clon')"
   ]
  },
  {
   "cell_type": "markdown",
   "metadata": {},
   "source": [
    "Global PlateCarree Plot:"
   ]
  },
  {
   "cell_type": "code",
   "execution_count": null,
   "metadata": {},
   "outputs": [],
   "source": [
    "ip = np.argmin((IcD_atm3d.plevc-850e2)**2)"
   ]
  },
  {
   "cell_type": "code",
   "execution_count": null,
   "metadata": {},
   "outputs": [],
   "source": [
    "ccrs_proj = ccrs.PlateCarree()\n",
    "hca, hcb = pyic.arrange_axes(1,1, asp=0.5, projection=ccrs_proj, fig_size_fac=3, sharex=False)\n",
    "ii=-1\n",
    "\n",
    "ii+=1; ax=hca[ii]; cax=hcb[ii]\n",
    "pyic.shade(lon, lat, zgvihi[ip,:], ax=ax, cax=cax, clim='auto', contfs=None, projection=ccrs.PlateCarree())\n",
    "pyic.plot_settings(ax, template='global', land_facecolor='none')\n",
    "ax.set_title('geopotential height [m]')"
   ]
  },
  {
   "cell_type": "markdown",
   "metadata": {},
   "source": [
    "North Polar Stereo Projection"
   ]
  },
  {
   "cell_type": "code",
   "execution_count": null,
   "metadata": {},
   "outputs": [],
   "source": [
    "# --- NorthPolarStereo projection\n",
    "ccrs_proj = ccrs.NorthPolarStereo()\n",
    "hca, hcb = pyic.arrange_axes(1,1, asp=1.0, projection=ccrs_proj, fig_size_fac=3,\n",
    "                             sharex=True, sharey=True)\n",
    "ii=-1\n",
    "\n",
    "ii+=1; ax=hca[ii]; cax=hcb[ii]\n",
    "pyic.shade(lon, lat, zgvihi[ip,:], ax=ax, cax=cax, clim=[5.2e3, 5.4e3], projection=ccrs.PlateCarree())\n",
    "#pyic.shade(IcD_atm3d.Tri, zgvi[ip,:], ax=ax, cax=cax, clim=[5.2e3, 6.4e3], projection=ccrs.PlateCarree())\n",
    "pyic.plot_settings(ax=ax, xlim=[-180,180], ylim=[60,90], do_xyticks=False, do_xyminorticks=False, do_gridlines=True, land_facecolor='none')\n",
    "ax.set_title('geopotential height [m]')"
   ]
  },
  {
   "cell_type": "code",
   "execution_count": null,
   "metadata": {},
   "outputs": [],
   "source": []
  }
 ],
 "metadata": {
  "kernelspec": {
   "display_name": "Python 3",
   "language": "python",
   "name": "python3"
  },
  "language_info": {
   "codemirror_mode": {
    "name": "ipython",
    "version": 3
   },
   "file_extension": ".py",
   "mimetype": "text/x-python",
   "name": "python",
   "nbconvert_exporter": "python",
   "pygments_lexer": "ipython3",
   "version": "3.8.2"
  }
 },
 "nbformat": 4,
 "nbformat_minor": 4
}
