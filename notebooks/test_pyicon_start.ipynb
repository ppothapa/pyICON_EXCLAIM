{
 "cells": [
  {
   "cell_type": "markdown",
   "metadata": {},
   "source": [
    "# Starter example for pyicon"
   ]
  },
  {
   "cell_type": "markdown",
   "metadata": {},
   "source": [
    "Some specific commands for Jupyter:"
   ]
  },
  {
   "cell_type": "code",
   "execution_count": 1,
   "metadata": {},
   "outputs": [],
   "source": [
    "%matplotlib inline\n",
    "%load_ext autoreload\n",
    "%autoreload 2"
   ]
  },
  {
   "cell_type": "markdown",
   "metadata": {},
   "source": [
    "Load necessary modules:"
   ]
  },
  {
   "cell_type": "code",
   "execution_count": 2,
   "metadata": {},
   "outputs": [],
   "source": [
    "import numpy as np\n",
    "import matplotlib.pyplot as plt\n",
    "from netCDF4 import Dataset\n",
    "import sys\n",
    "import pyicon as pyic"
   ]
  },
  {
   "cell_type": "markdown",
   "metadata": {},
   "source": [
    "## Names and paths\n",
    "\n",
    "Define the name of the simulation, its grid, the path to the data and paths to the grid:"
   ]
  },
  {
   "cell_type": "code",
   "execution_count": 3,
   "metadata": {},
   "outputs": [],
   "source": [
    "run = 'nib0004'\n",
    "runname = 'icon_08'\n",
    "gname = 'r2b6'\n",
    "lev = 'L64'\n",
    "\n",
    "path_data     = f'/mnt/lustre01/work/mh0033/m300602/proj_vmix/icon/{runname}/icon-oes/experiments/{run}/'\n",
    "path_grid     = f'/mnt/lustre01/work/mh0033/m300602/icon/grids/{gname}/'\n",
    "path_ckdtree  = f'{path_grid}ckdtree/'\n",
    "fpath_fx      = f'{path_grid}{gname}_{lev}_fx.nc'"
   ]
  },
  {
   "cell_type": "markdown",
   "metadata": {},
   "source": [
    "## Pyicon IconData object\n",
    "\n",
    "Create a pyicon IconData object. This object contains information about the grid, and the time steps which are in the given data directory."
   ]
  },
  {
   "cell_type": "code",
   "execution_count": 4,
   "metadata": {},
   "outputs": [],
   "source": [
    "IcD = pyic.IconData(\n",
    "               fname        = run+'_????????????????.nc',\n",
    "               path_data    = path_data,\n",
    "               path_grid    = path_grid,\n",
    "               gname        = gname,\n",
    "               lev          = lev,\n",
    "               #path_ckdtree = path_ckdtree,\n",
    "               #section_name = '',\n",
    "               #fpath_fx     = fpath_fx,\n",
    "               do_triangulation = True,\n",
    "               omit_last_file   = False\n",
    "              )"
   ]
  },
  {
   "cell_type": "markdown",
   "metadata": {},
   "source": [
    "## Load the data\n",
    "\n",
    "Specify some indices (it for time and iz for depth) that should be used to load a subset of the data (one level at one time step):"
   ]
  },
  {
   "cell_type": "code",
   "execution_count": 5,
   "metadata": {},
   "outputs": [],
   "source": [
    "# --- specify time step\n",
    "it = np.argmin(np.abs(IcD.times-np.datetime64('2295-01-01T00:00:00')))\n",
    "# --- specify depth level\n",
    "iz = np.argmin(np.abs(IcD.depthc-100.))"
   ]
  },
  {
   "cell_type": "markdown",
   "metadata": {},
   "source": [
    "Finally load the data (in this case temperature):"
   ]
  },
  {
   "cell_type": "code",
   "execution_count": 6,
   "metadata": {},
   "outputs": [],
   "source": [
    "f = Dataset(IcD.flist_ts[it], 'r')\n",
    "to = f.variables['to'][IcD.its[it],iz,:]\n",
    "to_3d = f.variables['to'][IcD.its[it],:,:]\n",
    "f.close()"
   ]
  },
  {
   "cell_type": "markdown",
   "metadata": {},
   "source": [
    "Mask land values (assuming 0 data values to be land):"
   ]
  },
  {
   "cell_type": "code",
   "execution_count": 7,
   "metadata": {},
   "outputs": [],
   "source": [
    "to[to==0.0] = np.ma.masked"
   ]
  },
  {
   "cell_type": "markdown",
   "metadata": {},
   "source": [
    "We can calculate the mean value:"
   ]
  },
  {
   "cell_type": "code",
   "execution_count": 8,
   "metadata": {},
   "outputs": [
    {
     "data": {
      "text/plain": [
       "14.134106462480295"
      ]
     },
     "execution_count": 8,
     "metadata": {},
     "output_type": "execute_result"
    }
   ],
   "source": [
    "to.mean()"
   ]
  },
  {
   "cell_type": "markdown",
   "metadata": {},
   "source": [
    "or get information about the size of the data:"
   ]
  },
  {
   "cell_type": "code",
   "execution_count": 9,
   "metadata": {},
   "outputs": [
    {
     "data": {
      "text/plain": [
       "(235403,)"
      ]
     },
     "execution_count": 9,
     "metadata": {},
     "output_type": "execute_result"
    }
   ],
   "source": [
    "to.shape"
   ]
  },
  {
   "cell_type": "code",
   "execution_count": 10,
   "metadata": {},
   "outputs": [
    {
     "data": {
      "text/plain": [
       "(64, 235403)"
      ]
     },
     "execution_count": 10,
     "metadata": {},
     "output_type": "execute_result"
    }
   ],
   "source": [
    "to_3d.shape"
   ]
  },
  {
   "cell_type": "markdown",
   "metadata": {},
   "source": [
    "## Plotting on the original triangular grid\n",
    "\n",
    "First mask land values (simply assuming that 0 data values are land):"
   ]
  },
  {
   "cell_type": "code",
   "execution_count": 11,
   "metadata": {},
   "outputs": [],
   "source": [
    "mask_land = to.mask\n",
    "# The mask needs to be applied to IconData triangulation object. \n",
    "# It is important to add the mask to the IcD.mask_bt mask which masks longitudinally periodic triangles.\n",
    "IcD.Tri.set_mask(IcD.mask_bt+mask_land)"
   ]
  },
  {
   "cell_type": "code",
   "execution_count": null,
   "metadata": {},
   "outputs": [],
   "source": [
    "hca, hcb = pyic.arrange_axes(1,1, plot_cb=True, sasp=0.5, fig_size_fac=3)\n",
    "ii=-1\n",
    "\n",
    "ii+=1; ax=hca[ii]; cax=hcb[ii]\n",
    "pyic.trishade(IcD.Tri, to, ax=ax, cax=cax, clim='auto')\n",
    "ax.set_xlabel('longitude')\n",
    "ax.set_ylabel('latitude')\n",
    "ax.set_title('temperature at %s and %.1fm depth'%(IcD.times[it], IcD.depthc[iz]))\n",
    "cax.set_title('$^o$C')"
   ]
  },
  {
   "cell_type": "markdown",
   "metadata": {},
   "source": [
    "## Interpolate data to a regular grid\n",
    "\n",
    "Use the pyicon interp_to_rectgrid function. The path to the regular grid ckdtree file (fpath_ckdtree) needs to be specified. It decides which regular grid is taken but only those grids can be chosen which were calculated and saved externally."
   ]
  },
  {
   "cell_type": "code",
   "execution_count": null,
   "metadata": {},
   "outputs": [],
   "source": [
    "fpath_ckdtree = f'{path_grid}ckdtree/rectgrids/{gname}_res0.30_180W-180E_90S-90N.npz'\n",
    "lon, lat, toi = pyic.interp_to_rectgrid(to, fpath_ckdtree, coordinates='clat clon')"
   ]
  },
  {
   "cell_type": "code",
   "execution_count": null,
   "metadata": {},
   "outputs": [],
   "source": [
    "hca, hcb = pyic.arrange_axes(1,1, plot_cb=True, sasp=0.5, fig_size_fac=3)\n",
    "ii=-1\n",
    "\n",
    "ii+=1; ax=hca[ii]; cax=hcb[ii]\n",
    "pyic.shade(lon, lat, toi, ax=ax, cax=cax, clim='auto')\n",
    "ax.set_xlabel('longitude')\n",
    "ax.set_ylabel('latitude')\n",
    "ax.set_title('temperature at %s and %.1fm depth'%(IcD.times[it], IcD.depthc[iz]))\n",
    "cax.set_title('$^o$C')"
   ]
  }
 ],
 "metadata": {
  "kernelspec": {
   "display_name": "Python 3",
   "language": "python",
   "name": "python3"
  },
  "language_info": {
   "codemirror_mode": {
    "name": "ipython",
    "version": 3
   },
   "file_extension": ".py",
   "mimetype": "text/x-python",
   "name": "python",
   "nbconvert_exporter": "python",
   "pygments_lexer": "ipython3",
   "version": "3.7.3"
  }
 },
 "nbformat": 4,
 "nbformat_minor": 4
}
